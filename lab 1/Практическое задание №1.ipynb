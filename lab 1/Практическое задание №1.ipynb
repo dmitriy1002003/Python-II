{
 "cells": [
  {
   "cell_type": "markdown",
   "id": "2362ea9f-3f75-4b5f-bef5-c9ad7af1bd25",
   "metadata": {},
   "source": [
    "**Жирный текст**, *курсив*\n",
    "\n",
    "    Список:\n",
    "    1) Пункт 1\n",
    "    2) Пункт 2\n",
    "    3) Пункт 3\n",
    "\n",
    "    * Пункт 1\n",
    "    * Пункт 2\n",
    "    * Пункт 3\n",
    "\n",
    "Формула: $L{f(t)} = ∫₀^∞ e^(-st) f(t) dt$"
   ]
  },
  {
   "cell_type": "markdown",
   "id": "1c30dfb8-f7ee-47de-bf3a-bc4640fa41e5",
   "metadata": {},
   "source": [
    "![Apex](https://i.playground.ru/p/Nv6hap1LrVuPGGhn4Y6kjw.png)"
   ]
  }
 ],
 "metadata": {
  "kernelspec": {
   "display_name": "Python [conda env:base] *",
   "language": "python",
   "name": "conda-base-py"
  },
  "language_info": {
   "codemirror_mode": {
    "name": "ipython",
    "version": 3
   },
   "file_extension": ".py",
   "mimetype": "text/x-python",
   "name": "python",
   "nbconvert_exporter": "python",
   "pygments_lexer": "ipython3",
   "version": "3.12.7"
  }
 },
 "nbformat": 4,
 "nbformat_minor": 5
}
